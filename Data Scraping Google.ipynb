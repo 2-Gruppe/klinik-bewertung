{
 "cells": [
  {
   "cell_type": "markdown",
   "metadata": {},
   "source": [
    "# Google Maps\n",
    "#### Jetzt werden wir  Google Maps Daten verarbeitet.\n",
    "Die benötigte Daten: \n",
    " - Name der Klinik, \n",
    " - Textuelle Bewertung, \n",
    " - Sternebewertung,\n",
    " - Fachbereich, \n",
    " - Datum der Bewertung,\n",
    " - Likes"
   ]
  }
 ],
 "metadata": {
  "kernelspec": {
   "display_name": "Python 3",
   "language": "python",
   "name": "python3"
  },
  "language_info": {
   "codemirror_mode": {
    "name": "ipython",
    "version": 3
   },
   "file_extension": ".py",
   "mimetype": "text/x-python",
   "name": "python",
   "nbconvert_exporter": "python",
   "pygments_lexer": "ipython3",
   "version": "3.8.5"
  }
 },
 "nbformat": 4,
 "nbformat_minor": 4
}
