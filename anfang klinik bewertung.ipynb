{
 "cells": [
  {
   "cell_type": "code",
   "execution_count": 2,
   "metadata": {},
   "outputs": [],
   "source": [
    "import pandas as pd"
   ]
  },
  {
   "cell_type": "code",
   "execution_count": 4,
   "metadata": {},
   "outputs": [
    {
     "data": {
      "text/html": [
       "<div>\n",
       "<style scoped>\n",
       "    .dataframe tbody tr th:only-of-type {\n",
       "        vertical-align: middle;\n",
       "    }\n",
       "\n",
       "    .dataframe tbody tr th {\n",
       "        vertical-align: top;\n",
       "    }\n",
       "\n",
       "    .dataframe thead th {\n",
       "        text-align: right;\n",
       "    }\n",
       "</style>\n",
       "<table border=\"1\" class=\"dataframe\">\n",
       "  <thead>\n",
       "    <tr style=\"text-align: right;\">\n",
       "      <th></th>\n",
       "      <th>Klinikname</th>\n",
       "      <th>Link Klinikbewertungen</th>\n",
       "    </tr>\n",
       "  </thead>\n",
       "  <tbody>\n",
       "    <tr>\n",
       "      <th>0</th>\n",
       "      <td>Herzogin Elisabeth Hospital</td>\n",
       "      <td>https://www.klinikbewertungen.de/klinik-forum/...</td>\n",
       "    </tr>\n",
       "    <tr>\n",
       "      <th>1</th>\n",
       "      <td>Klinik am Zuckerberg</td>\n",
       "      <td>https://www.klinikbewertungen.de/klinik-forum/...</td>\n",
       "    </tr>\n",
       "    <tr>\n",
       "      <th>2</th>\n",
       "      <td>Klinikum Wolfsburg</td>\n",
       "      <td>https://www.klinikbewertungen.de/klinik-forum/...</td>\n",
       "    </tr>\n",
       "    <tr>\n",
       "      <th>3</th>\n",
       "      <td>Klinikum Peine</td>\n",
       "      <td>https://www.klinikbewertungen.de/klinik-forum/...</td>\n",
       "    </tr>\n",
       "    <tr>\n",
       "      <th>4</th>\n",
       "      <td>St. Martini Krankenhaus</td>\n",
       "      <td>https://www.klinikbewertungen.de/klinik-forum/...</td>\n",
       "    </tr>\n",
       "    <tr>\n",
       "      <th>5</th>\n",
       "      <td>DIAKOVERE Henriettenstift</td>\n",
       "      <td>https://www.klinikbewertungen.de/klinik-forum/...</td>\n",
       "    </tr>\n",
       "    <tr>\n",
       "      <th>6</th>\n",
       "      <td>Eilenriede Klinik Hannover</td>\n",
       "      <td>https://www.klinikbewertungen.de/klinik-forum/...</td>\n",
       "    </tr>\n",
       "    <tr>\n",
       "      <th>7</th>\n",
       "      <td>Sophienklinik</td>\n",
       "      <td>https://www.klinikbewertungen.de/klinik-forum/...</td>\n",
       "    </tr>\n",
       "    <tr>\n",
       "      <th>8</th>\n",
       "      <td>KRH Klinikum Agness Karll Laatzen</td>\n",
       "      <td>https://www.klinikbewertungen.de/klinik-forum/...</td>\n",
       "    </tr>\n",
       "    <tr>\n",
       "      <th>9</th>\n",
       "      <td>Klinikum Wahrendorff</td>\n",
       "      <td>https://www.klinikbewertungen.de/klinik-forum/...</td>\n",
       "    </tr>\n",
       "    <tr>\n",
       "      <th>10</th>\n",
       "      <td>AMEOS Klinikum Hildesheim</td>\n",
       "      <td>https://www.klinikbewertungen.de/klinik-forum/...</td>\n",
       "    </tr>\n",
       "    <tr>\n",
       "      <th>11</th>\n",
       "      <td>Helios Kliniken Mittelweser</td>\n",
       "      <td>https://www.klinikbewertungen.de/klinik-forum/...</td>\n",
       "    </tr>\n",
       "    <tr>\n",
       "      <th>12</th>\n",
       "      <td>HELIOS Klinik Cuxhaven</td>\n",
       "      <td>https://www.klinikbewertungen.de/klinik-forum/...</td>\n",
       "    </tr>\n",
       "    <tr>\n",
       "      <th>13</th>\n",
       "      <td>AMEOS Klinikum Seepark Geestland</td>\n",
       "      <td>https://www.klinikbewertungen.de/klinik-forum/...</td>\n",
       "    </tr>\n",
       "    <tr>\n",
       "      <th>14</th>\n",
       "      <td>Krankenhaus Buchholz</td>\n",
       "      <td>https://www.klinikbewertungen.de/klinik-forum/...</td>\n",
       "    </tr>\n",
       "    <tr>\n",
       "      <th>15</th>\n",
       "      <td>Krankenhaus Winsen</td>\n",
       "      <td>https://www.klinikbewertungen.de/klinik-forum/...</td>\n",
       "    </tr>\n",
       "    <tr>\n",
       "      <th>16</th>\n",
       "      <td>Psychiatrische Klinik Lüneburg</td>\n",
       "      <td>https://www.klinikbewertungen.de/klinik-forum/...</td>\n",
       "    </tr>\n",
       "  </tbody>\n",
       "</table>\n",
       "</div>"
      ],
      "text/plain": [
       "                           Klinikname  \\\n",
       "0         Herzogin Elisabeth Hospital   \n",
       "1                Klinik am Zuckerberg   \n",
       "2                  Klinikum Wolfsburg   \n",
       "3                      Klinikum Peine   \n",
       "4             St. Martini Krankenhaus   \n",
       "5           DIAKOVERE Henriettenstift   \n",
       "6          Eilenriede Klinik Hannover   \n",
       "7                       Sophienklinik   \n",
       "8   KRH Klinikum Agness Karll Laatzen   \n",
       "9                Klinikum Wahrendorff   \n",
       "10          AMEOS Klinikum Hildesheim   \n",
       "11        Helios Kliniken Mittelweser   \n",
       "12             HELIOS Klinik Cuxhaven   \n",
       "13   AMEOS Klinikum Seepark Geestland   \n",
       "14               Krankenhaus Buchholz   \n",
       "15                 Krankenhaus Winsen   \n",
       "16     Psychiatrische Klinik Lüneburg   \n",
       "\n",
       "                               Link Klinikbewertungen  \n",
       "0   https://www.klinikbewertungen.de/klinik-forum/...  \n",
       "1   https://www.klinikbewertungen.de/klinik-forum/...  \n",
       "2   https://www.klinikbewertungen.de/klinik-forum/...  \n",
       "3   https://www.klinikbewertungen.de/klinik-forum/...  \n",
       "4   https://www.klinikbewertungen.de/klinik-forum/...  \n",
       "5   https://www.klinikbewertungen.de/klinik-forum/...  \n",
       "6   https://www.klinikbewertungen.de/klinik-forum/...  \n",
       "7   https://www.klinikbewertungen.de/klinik-forum/...  \n",
       "8   https://www.klinikbewertungen.de/klinik-forum/...  \n",
       "9   https://www.klinikbewertungen.de/klinik-forum/...  \n",
       "10  https://www.klinikbewertungen.de/klinik-forum/...  \n",
       "11  https://www.klinikbewertungen.de/klinik-forum/...  \n",
       "12  https://www.klinikbewertungen.de/klinik-forum/...  \n",
       "13  https://www.klinikbewertungen.de/klinik-forum/...  \n",
       "14  https://www.klinikbewertungen.de/klinik-forum/...  \n",
       "15  https://www.klinikbewertungen.de/klinik-forum/...  \n",
       "16  https://www.klinikbewertungen.de/klinik-forum/...  "
      ]
     },
     "execution_count": 4,
     "metadata": {},
     "output_type": "execute_result"
    }
   ],
   "source": [
    "url_data = pd.read_excel(r'Klinikliste.xlsx')\n",
    "df = pd.read_excel(r'Klinikliste.xlsx')[:17][[\"Klinikname\",\"Link Klinikbewertungen\"]]\n",
    "df"
   ]
  },
  {
   "cell_type": "code",
   "execution_count": null,
   "metadata": {},
   "outputs": [],
   "source": [
    "#pip install beautifulsoup4"
   ]
  },
  {
   "cell_type": "code",
   "execution_count": 13,
   "metadata": {},
   "outputs": [],
   "source": [
    "#pip install scrapy"
   ]
  },
  {
   "cell_type": "code",
   "execution_count": 6,
   "metadata": {},
   "outputs": [],
   "source": [
    "#pip install selenium"
   ]
  },
  {
   "cell_type": "code",
   "execution_count": 7,
   "metadata": {},
   "outputs": [],
   "source": [
    "import requests\n",
    "import scrapy\n",
    "from scrapy.http import TextResponse\n",
    "from scrapy.selector import Selector\n",
    "from bs4 import BeautifulSoup"
   ]
  },
  {
   "cell_type": "code",
   "execution_count": 9,
   "metadata": {},
   "outputs": [
    {
     "name": "stdout",
     "output_type": "stream",
     "text": [
      "https://www.klinikbewertungen.de/klinik-forum/erfahrung-mit-kliniken-herzogin-elisabeth-braunschweig/bewertungen?allbew#more\n",
      "['Superklinik', 'Kranken- oder Hotelzimmer?', 'Knie OP', 'Beste Erfahrungen im HEH', 'Superkompetent und freundlich', 'Endlich eine Diagnose', 'Schlecht behandelt', 'Top Klinik', 'Ein angenehmer Aufenthalt', 'Die neuen Kopfkissen sind sehr schlecht', 'Warum in die Ferne schweifen.. Das Gute liegt so nah.', 'sehr zu empfehlende Klinik', 'Phantastisch', 'Unzumutbar', 'Wenn schon OP, dann HEH', 'Klinikaufenthalt', 'Tolles Team', 'Kompetentes unf freundliches Krankenhaus', 'Kassenpatienten sollten sich das gut Ã¼berlegen', 'UnertrÃ¤glich lange Wartezeiten', 'Rakotomanana', 'Gut aufgehoben', 'HÃ\\x9cFTE ?   IMMER WIEDER HIER!!!', 'Mein Dank und Anerkennung an ALLE Abteilungen im HEH Braundchweig', 'Weiter zu Empfehlen.', 'Nie wieder!', 'Karl-Heinz Bodenstedt', 'Nie wieder stationÃ¤r!', 'Hier fÃ¼hlt sich der Patient in guten HÃ¤nden', 'Rundum zufrieden', 'HÃ\\x9cFT TEP', 'Sehr angenehm', 'Entscheidend ist, an wen man gerÃ¤t!', 'Klinik meines Vertrauens', 'Sehr gute Klinik', 'Top Empfehlung', 'UneingeschrÃ¤nkte Empfehlung', 'Ein Alptraum fÃ¼r mich, nie wieder HEH!', 'Sehr gute Klinik', 'Alles war sehr gut', 'Gallenblasenentfernung 27.01.2020', 'Kompetenz', 'Gut aufgehoben im HEH', 'Sehr zu empfehlen', 'Ausgezeichnetes Ergebnis Knie OP', 'Danke an alle HEH Mitarbeiter der Station 2', 'Nukleotomie', '4te Mal HEH und noch immer TOP!', 'Noch immer ratlos und fassungslos', 'Erfolgreiche Operation am FuÃ\\x9f', 'Gut, das ich hier im HEH war', 'vÃ¶llig komplikationslose HÃ¼ft TEP OP', 'Jederzeit wieder', 'Voll zufrieden', 'Das beste Krankenhaus', 'Immer wieder HEH', 'Wieder laufen.', 'Wartezeit beim Chefarzt', 'Unzufrieden mit liegezeit', 'Helfen ist hier nicht modern', 'Empfehlenswerte Klinik', 'Schraubenbruch', 'Hier ist man sehr gut aufgehoben.', 'Die HEH Klinik ist absolut zu empfehlen!', 'Gallenblasenoperation', 'Knie-OP im Ambulanten OP-Zentrum', 'Guter Eindruck von Ã\\x84rzteteam und Pflegepersonal', 'Alles top !!!', 'Menschlich und Fachlich: Top!', 'Operation gelunden, sehr belastende Nebeneffekte', 'Schulter neu', 'BeinlÃ¤nge 3cm mit neuer HÃ¼fte', 'Leberversagen', 'Wenn schon, denn schon', 'Nie mehr eine andere Klinik!!!!!', 'Im Vorfeld schon nich Willkommen', 'Tolles kompetentes Krankenkenhaus', 'Vom HEH im Stich gelassen', 'Abzocke mit TV', 'Wirklich sehr gut', 'Gut Versorgt', 'wenn Krankenhaus dann HEH.', 'Abdominoplastik', 'Sehr gutes Krankenhaus', 'Ã\\x84rzte top, vorstationÃ¤re Aufnahme flop', 'Sehr zu empfehlen', 'HÃ¼ft-OP', 'HÃ¼ft-OP', 'TEP-HÃ¼fte-Prothese ( Recht)', 'Zufriedenheitsbericht', 'HEH Braunschweig', 'Top Klinik', 'Sehr zu empfehlen', 'SchilddrÃ¼sen-OP', 'Sehr zu empfehlen!', 'Es giebt noch Klinken wo man Patient ist.', 'Ignoranter Ã\\x84rztepfusch oder Schicksal?', 'Menschlichkeit Fehlanzeige', 'Ã¼ble Behandlung des Pflegepersonals', 'Prima neue HÃ¼fte', 'Leben zerstÃ¶rt!!!', '6 Einzelrechnungen innerhalb eines halben Jahres fÃ¼r einen Krankenhausaufenthalt von 2 Tagen.', 'Erstklassige Klinik', 'Nervig', 'fehlerhafte Operation', 'Ambulante Op', 'stÃ¤ndig wechselnde Ã\\x84rzte', 'Nur empfehlenswert', 'Sehr gute Klinik', 'Sehr gutes Oerationsergebnis', 'Ã\\x84rzte in weiÃ\\x9f und Schnarcher', 'Untersuchungen GefÃ¤Ã\\x9fe', 'HEH - eine positive Erfahrung!!!', 'Kompetent, freundlich, effektiv', 'super kompetentes Krankenhaus', 'Eine sehr positive Erfahrung', 'Eine Klinik erster GÃ¼te', 'Knie-TEP Wechsel..........', 'Nur Positives', 'HEH, nein danke.', 'Lieber neue UntersuchungsgerÃ¤te als hÃ¶here Bettenzahl', 'Hervorragende Klinik', 'Oberarzt Tobias Thorban sehr zu empfehlen!!!', 'Super Krankenhaus', 'noch immer keine Diagnose seit Ã¼ber 1 Woche', 'Gut geraten!', 'Mit Schmerzen und Depressionen wieder nach Hause geschickt, angeblich ohne Befund !', 'Ein sehr zufriedener Patient', 'Kniearthroskopie', 'Patientin vergessen', 'Kompetente OrthopÃ¤die in Braunschweig']\n",
      "https://www.klinikbewertungen.de/klinik-forum/erfahrung-mit-klinik-am-zuckerberg-braunschweig/bewertungen?allbew#more\n",
      "['Rund um wohl Paket', 'Eine besondere Klinik', 'Ich kann die Klinik am Zuckerberg nur empfehlen', 'Jeder Zeit wieder', 'Kasperczyk', 'Neurochirurgie', 'Tolle Klinik und toller Arzt', 'Sehr zu empfehlen', 'OP Vorbereitungsteam am 25.11.2019', 'Leichter durchs Leben ohne Krampfadern', 'Berufliche Erfahrung im Doppelpack', 'kurzer effektiver Aufenthalt', 'Weitestgehend zufriedenstellend', 'Professionell und kompetent', 'Krampfadern', 'PersÃ¶nlicher Erfahrungsbericht', 'Mein Klinikaufenthalt von 4 Tagen', 'Krampfadern OP', 'Kompetenz fÃ¶rdert Vertrauen', 'Wollte HÃ¶cker entfernen und werde angemotzt..', 'Sehr zufrieden', 'Erfahrungsbericht', 'Die Klinik am Zuckerberg ist die beste Klinik die ich kenne', 'OP zwecks Venenprobleme', 'Chefarzt', 'Krampfadern', 'Erfahrungsbericht', 'Tolle Ã¤rztliche Betreuung !!!', 'Sehr zufrieden mit der Klinik', 'Gutes Konzept', 'FÃ¼hle mich verarscht', 'Sehr zufrieden', 'positiv und sehr zu empfehlen!', 'In allen Bereichen nur positiv Ã¼berrascht', 'Kompetenz groÃ\\x9f geschrieben', 'weniger zufrieden', 'Pip Implantate', 'Keine gute private Klinik', 'Gelungene OP-hier gibt es keinen StandesdÃ¼nkel', 'Perfekte Betreuung', 'Fast wie ein Hotel', 'Tolle Klinik', 'Klinik mit Nivevau', 'GroÃ\\x9fes Lob', 'Krampfaderentfernung mit anschlieÃ\\x9fendem Klinikaufenthalt', 'Sehr Zufrieden', 'Herausragend', 'Chefarzt  - ein genialer Arzt', 'Verwachsungen die 3. !!', 'Ein Chirurg mit Herz fÃ¼r seine Patienten', 'Tolle Klinik !!!', 'Ausgezeichnete Behandlung', 'groÃ\\x9fes Vertrauen zu Chefarzt gefasst', 'Behandlung  und Unterbringung wie auf dem Traumschiff', 'Danke!!!', 'sehr zufrieden', 'Super Klinik', 'Danke Dr.Kruschinski', 'Ein anderer Stern....', 'Venen', 'geht so nicht', 'Danke an Dr Kruschinski und sein Team', 'Man fÃ¼hlt sich gut betreut!', 'eher wie ein Sanatorium', 'Ehemalige Patientin', 'eine Klinik mit Wellness und Hotelcharakter', 'HÃ¤morrhoiden OP', 'Super Artzt.der Dr.Zubachek', 'Klaus Weschki', '2 OPÂ°s schon gehabt am selben Bein', 'So sollte es sein, egal ob Kasse oder Privat !', 'Tolle Klinik in schÃ¶ner Lage', 'Hier ist der Patient ein MENSCH !', 'Sehr empfehlenswerte Klinik', 'Logistischer und medizinischer Ablauf super!', 'Wenn OP - dann nur in Braunschweig', 'OP verbunden mit kleinem Urlaub', 'Eine Klinik mit Hotelcharakter']\n",
      "https://www.klinikbewertungen.de/klinik-forum/erfahrung-mit-stadtkrankenhaus-wolfsburg/bewertungen?allbew#more\n",
      "['Gute Hilfe bei Dystonie', 'Entbindung', 'Vielen lieben Dank', 'Alles top', 'Nie wieder!', 'Nur zu Empfehlen!', 'Danke fÃ¼r alles!!', 'Danke fÃ¼r die gute Betreuung und Behandlung', 'wenn schon Krankenhaus, dann hier !!!', 'AngehÃ¶rige und Betreuer lÃ¤stig', 'sehr zufrieden', 'Trotz starker Wehen   geschickt', 'Ã\\x84rzte und Essen Top - Anmeldung und Station Flop', 'Sterben zu Corona-Zeiten', 'Nicht zu empfehlen', 'Keine schÃ¶ne Erfahrung', 'Empathielos und desinteressiert', 'ein gutes Krankenhaus', 'Bei einem Notfall wÃ¼rde ich wieder kommen!', 'Entspannte Entbindung', 'Professor und Team der Spitzenklasse', 'Professor mit Team der Oberklasse', 'Polypen OP', 'Einer fÃ¼r alle, alle fÃ¼r den Patienten', 'Furchtbare Erfahrung!', 'Hervorragende Behandlung', 'Diese Krankenhaus hat den Namen nicht verdient', 'Trotz starker Wehen nach Hause geschickt', 'Sehr zufrieden', 'Inkompetenz hat ein Gesicht', 'Alles andere als eine schÃ¶ne Geburt!', 'MenschenunwÃ¼rdig', 'EntwÃ¼rdigende und traumatische Geburtserfahrung', 'Herzkatheteruntersuchung', 'Pure Unfreundlichkeit!', 'Tumor OP. 2012 mit Strahlentherapie', 'Sehr schlimme ZustÃ¤nde', 'Kindernotdienst Wartezeit', 'Das absolute Chaos', 'Verdacht auf Appoplex', 'Immer wieder gerne !', 'Genervte unfreundliche Menschen die nicht mal bei Penny an der Kasse sitzen sollten.', 'Cochlea Implantat', 'Unser Kampf gegen den Krebs', 'Qual fÃ¼r Kind', 'Richtige Therapie gefunden. Danke!', 'nein', 'Krankenakte', 'Armutszeugnis', 'AbklÃ¤rung eines Magenbefundes', '!!! NABELREST VERSCHWUNDEN !!!', 'Super Fachabteilung', 'sehr zufrieden', 'Frauen', 'Nasen OP', 'unfreundlich und genervtes Personal und Ã¤rzta', 'Keine Behandlung und unfreundliches Personal', 'Einfach tolle Behandlung', 'Entbindung Einleitung', 'Station E6 nur zu empfehlen', 'HÃ¶rverlust', 'Schon dreimal Notfallambulanz - immer zufrieden', 'Unfall-Aufnahme', 'Ein hervorragender Rheumatologe u Mensch verlaesst das Klinikum.', 'Meiden Sie daas Klinikum Wolfsburg', 'Sehr zufrieden', 'Lange Wartezeit und dann krÃ¤ftig  \"Zusatzleistungen\" verkaufen!', 'GlÃ¼cklich', 'Entbindung / KreiÃ\\x9fsaal', 'Notaufnahme', 'ausbleibende Behandlung und Entlassungsempfehlung', 'Noch Luft nach oben', 'Ein super Krankenhaus', 'Schnelles Handeln bei Aufnahme', 'Hervorragende gefÃ¼hrte Abteilung', 'Das muss mal gesagt werden!!!!', 'Die Angst war am GrÃ¶Ã\\x9ften, aber vÃ¶llig unnÃ¶tig', 'Einfach perfekt', 'Top station', 'Operation gut, Ablauf bei der Nachfolgeuntersuchung eine Katastrophe', 'Blutung', 'Notaufnahme', 'Problemlose Geburt, nette Mitarbeiter', 'BESCHWERDE', 'Sehr zufrieden', 'SchÃ¤big', 'Nie wieder auf diese Station', 'Not kaiserschnitt', 'Endlich Hilfe', 'Wie in Hollywood', 'Prellung oder Nichtprellung', 'Korrektur der Nasenscheidewand', 'Empfehlung zu 100%', 'Positiv und negativ', 'Bin begeistert', 'Der sehr gute Ruf der HNO-Klinik hat sich bestÃ¤tigt', 'Rundum zufrieden', 'Unmenschlich', 'Top!', 'Kompetente Behandlung - ausfÃ¼hrliche Beratung', 'Station G4A', 'Sehr nettes Personal', 'Tolle Aufnahme im Notfallbereich und Fachabteilung', 'Gute Erfahrung', 'QuÃ¤litativ hochfertige Beratung und Betreuung, sehr freundliches und kompetentes Personal', 'Bewertung Team', 'Nicht zu empfehlen!', 'Aufnahme im Klinikum', 'HNO-Bereich ist super!', 'Untersuchung Herkatheter Innere Station G6b', 'herzkatheter untersuchung auf der G6b', 'Wartezeiten!!!!!!!!!!!!!!!!!!!!!!!!!!!!', 'Katastrophe Ã¼berfordert und unterbesetzt', 'OP Hals-Wirbel incl. \"Einbau\" zweier Implatate', 'Tolle Herzklinik', 'Total EnttÃ¤uschend!', 'Sehr zufrieden', 'Sehr zufrieden', 'unfreundlich, extrem lange Wartezeit', 'Rundum zufrieden!', 'War nicht zufrieden habe die selben beschfÃ¤rden wie voher', 'Seite operiert', 'unzufriden', 'Neurochirurg top !', 'Wartezeiten', 'Nie wieder', 'Hysterektomie', 'Danke Dr. Rieger', 'Dreist aber trotzdem nicht grundsÃ¤tzlich schlecht!', 'Trennung vom Kind - der blanke Horror', 'Super Krankenhaus', 'Gut aufgehoben - Danke', 'Nichts fÃ¼r Dauer-NÃ¶rgler', 'Das Chaos lÃ¤Ã\\x9ft grÃ¼Ã\\x9fen....', 'Kompetent', 'PersÃ¶nlich, kompetent und nah am Patienten', 'Nasenoperation', 'Sehr lange Wartezeit!!! - Keine Orga, keine Infos, unfreundliche Ã\\x84rzte', 'superschlechte organisation', 'Medizinisch o.k., im Ablauf stark verbesserungswÃ¼rdig', 'UnfÃ¤hige Ã\\x84rzte die mit Sinnlosen Untersuchungen Geld verdienen', 'Immer wieder gern !!!!', 'Geburt im Klinikum WOB gern wieder', 'Sehr lange Wartezeit', 'Umgang mit den Patienten', 'Die Neurochirogie hat stark nachgelassen !!!', 'Einfach nur furchtbar !!!', 'Unorganisiert, jedoch fÃ¼r eine \"normale\" Geburt okay', 'schlechte Behandlung und schlecht aufgehoben', 'Bandscheiben OP', 'Inkompetenz', 'Einmal und NIE wieder', 'NasennebenhÃ¶hlen OP', 'Besser als zuvor', 'Durch Fehldiagnose - Fehlbehandlung sehr gelitten', 'Die Hebammen dort kann man vergessen', 'Nasen Operation', 'Neurochirugie G3-B', 'Alles klasse!', 'Lange Wartezeiten in der Notaufnahme', 'schlimmster krankenhaus aufenthalt!', 'Spucken beim Neugeborenen', 'Im Notfall mit einem SÃ¤ugling nicht nach WOB !!', 'Entbindung im KH WOB', 'mit Flankenschmerzen ins KH', '2Tage bis zur Entbindung', 'Im Wob KH wird man krank', 'Aufnahme mangelhaft, Behandlung gut', 'Op muÃ\\x9f leider verschoben werden', 'Perfekte Leistung der ZNA Klin. Wolfsburg', 'Schlechte medizinische Versorgung und Umgang mit den Patienten', 'enttÃ¤uscht', 'Geplanter Kaiserschnitt', 'Pansinusitis OP.', 'Entbindung dort nie wieder !', 'Lange Wartezeit und keine Planungssicherheit', 'Gute Versorgung', 'Klinikum Wolfsburg vom allerfeinsten!', 'Nie wieder!!!', 'Danke an die Station G3B Wolfsburg', 'Sehr positive Erfahrung', 'Klinikum-WOB - man fÃ¼hlt sich wie zu Hause', 'Positiv Ã¼berrascht von der guten Betreuung.', 'sehr gut gelaufen', 'Kompetenz und gute Betreuung', 'Frauenklinik - wenn es notwendig ist, gern wieder', 'Meine persÃ¶nlichen Meinungen', 'Sehr zufrieden', 'dankeschÃ¶n', 'Nie WOB das nÃ¤chste mal zÃ¤hle ich gerne extra fÃ¼r ein Fahrt nach Klinikum BS', 'Klinikum Wolfsburg meiden', 'Sehr professionell und empfehlenswert', 'Der schÃ¶nste Tag in meinem Leben!', 'HNO-Station bestens', 'GroÃ\\x9fer Respekt vor der hohen fachlichen Kompetenz', 'Super Entbindungsstation - Sehr zufrieden', 'freundliches und kompetentes Personal', 'Nicht emfehlenswert', 'G3B sehr gute Station', 'Hervorragende Behandlung', 'Professionell und Menschlich', 'Von auÃ\\x9fen hoch gelobt - von innen GAU. FÃ¼rs 2. Kind gehts nach Gifhorn!', 'Einmal und Nie Wieder!', '\"Gerne wieder\"', 'Nicht mal im Notfall, dann lieber nach Braunschweig', 'Zuviel Nachoperationen', '2000 Zeichen reichen nicht aus!!!! Ist der SÃ¤ugling einmal auf der FrÃ¼hchenstation, darf er - auch wenn er absolut gesund und munter ist - nicht mehr zu der Mutter auf`s Zimmer. 36SSW, Ã¼ber 2000g und topfit - keine Chance!!!', 'QuallitÃ¤tsbewuÃ\\x9ft und Wachsam', 'Gute Betreuung Fachliches Personal', 'SEHR GUT !', 'Gesamteindruck : nicht so toll', 'Perfekt', 'NIE WIEDER!!!', 'Sehr freundlich und kompetent', 'Arzt mit einem groÃ\\x9fen Herz fÃ¼r kleine Patienten', 'gute Zimmer, schlechte Versorgung', 'BSV mit Spinalkanalstenose HWK 5/6, Nov.09', 'empfehlenswert \"mehr geht (fast) nicht\". sehr zufrieden nach bandscheiben op', '2 OpÂ´s 2 Mal fÃ¼r die Katz', '100%ig kompetent', 'Geburt meines Sohnes', 'Notaufnahme', 'Behandlung meiner Kinder in der Notaufnahme', 'Hebamme absolut unzumutbar', 'Endlich eine patientenorientierte Klinik', 'Knie-OP', 'Nur im Notfall', 'Rechnung', 'Hier wird man N I C H T  als Patient 2. Klasse behandelt', 'Schlechte geplante Patinenaufnahme in der Neurochirugie', 'Menschlichkeit ging Verloren', 'unorganisiertes Chaos bei Brustkrebs', 'Weiterzuempfehlen!', 'Kann man weiterempfehlen']\n"
     ]
    }
   ],
   "source": [
    "for klinik in range (3):\n",
    "    url = df.iloc[klinik,1]+\"/bewertungen?allbew#more\" # alle kommentare zu sehen\n",
    "    print(url)\n",
    "    r = requests.get(url) \n",
    "    response = TextResponse(r.url,body=r.text,encoding=\"utf-8\")\n",
    "    \n",
    "    \n",
    "    print(response.xpath(\"//div[@class='list ratinglist']/article/header/h2/text()\").extract())\n",
    "    print(response.xpath(\"//div[@class='meta']/time/text()\").extract())"
   ]
  },
  {
   "cell_type": "code",
   "execution_count": null,
   "metadata": {},
   "outputs": [],
   "source": []
  },
  {
   "cell_type": "code",
   "execution_count": null,
   "metadata": {},
   "outputs": [],
   "source": []
  },
  {
   "cell_type": "code",
   "execution_count": null,
   "metadata": {},
   "outputs": [],
   "source": []
  }
 ],
 "metadata": {
  "kernelspec": {
   "display_name": "Python 3",
   "language": "python",
   "name": "python3"
  },
  "language_info": {
   "codemirror_mode": {
    "name": "ipython",
    "version": 3
   },
   "file_extension": ".py",
   "mimetype": "text/x-python",
   "name": "python",
   "nbconvert_exporter": "python",
   "pygments_lexer": "ipython3",
   "version": "3.8.5"
  }
 },
 "nbformat": 4,
 "nbformat_minor": 4
}
